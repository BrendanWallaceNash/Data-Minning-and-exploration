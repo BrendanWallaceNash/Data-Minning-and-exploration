{
 "cells": [
  {
   "cell_type": "code",
   "execution_count": 20,
   "metadata": {
    "scrolled": true
   },
   "outputs": [
    {
     "name": "stdout",
     "output_type": "stream",
     "text": [
      "<class 'pandas.core.frame.DataFrame'>\n",
      "RangeIndex: 36183 entries, 0 to 36182\n",
      "Data columns (total 29 columns):\n",
      "race                        35335 non-null object\n",
      "gender                      36183 non-null object\n",
      "age                         36174 non-null object\n",
      "admission_type_id           36183 non-null int64\n",
      "discharge_disposition_id    36183 non-null int64\n",
      "admission_source_id         36183 non-null int64\n",
      "time_in_hospital            36183 non-null int64\n",
      "medical_specialty           36183 non-null object\n",
      "num_lab_procedures          36183 non-null int64\n",
      "num_procedures              36183 non-null int64\n",
      "num_medications             36183 non-null int64\n",
      "number_outpatient           36183 non-null int64\n",
      "number_emergency            36183 non-null int64\n",
      "number_inpatient            36183 non-null int64\n",
      "number_diagnoses            36183 non-null int64\n",
      "max_glu_serum               36183 non-null object\n",
      "A1Cresult                   36183 non-null object\n",
      "metformin                   36183 non-null object\n",
      "repaglinide                 36183 non-null object\n",
      "nateglinide                 36183 non-null object\n",
      "chlorpropamide              36174 non-null object\n",
      "glimepiride                 36183 non-null object\n",
      "acetohexamide               36183 non-null object\n",
      "glipizide                   36183 non-null object\n",
      "glyburide                   36183 non-null object\n",
      "tolbutamide                 36183 non-null object\n",
      "insulin                     36183 non-null object\n",
      "change                      36183 non-null bool\n",
      "diabetesMed                 36183 non-null bool\n",
      "dtypes: bool(2), int64(11), object(16)\n",
      "memory usage: 7.5+ MB\n",
      "None\n",
      "              race  gender      age  admission_type_id  \\\n",
      "0        Caucasian  Female  [60-70)                  2   \n",
      "1        Caucasian  Female  [80-90)                  3   \n",
      "2        Caucasian  Female  [80-90)                  2   \n",
      "3        Caucasian  Female  [60-70)                  3   \n",
      "4        Caucasian  Female  [60-70)                  3   \n",
      "5        Caucasian    Male  [70-80)                  2   \n",
      "6        Caucasian    Male  [60-70)                  2   \n",
      "7  AfricanAmerican  Female  [40-50)                  1   \n",
      "8  AfricanAmerican    Male  [70-80)                  1   \n",
      "9  AfricanAmerican  Female  [70-80)                  1   \n",
      "\n",
      "   discharge_disposition_id  admission_source_id  time_in_hospital  \\\n",
      "0                         1                    1                 4   \n",
      "1                         2                    1                 8   \n",
      "2                         1                    1                 2   \n",
      "3                         1                    1                 2   \n",
      "4                         2                    1                 7   \n",
      "5                         1                    7                 3   \n",
      "6                         1                    1                 6   \n",
      "7                         1                    7                 3   \n",
      "8                         1                    7                 5   \n",
      "9                         1                    7                 1   \n",
      "\n",
      "  medical_specialty  num_lab_procedures  num_procedures  ...  nateglinide  \\\n",
      "0  InternalMedicine                  43               0  ...           No   \n",
      "1           Invalid                  48               6  ...           No   \n",
      "2        Cardiology                  39               0  ...           No   \n",
      "3           Invalid                  54               0  ...           No   \n",
      "4           Invalid                  70               1  ...           No   \n",
      "5  Emergency/Trauma                   1               4  ...           No   \n",
      "6         Neurology                  28               1  ...           No   \n",
      "7   Surgery-General                  48               0  ...           No   \n",
      "8           Invalid                  42               2  ...           No   \n",
      "9  Emergency/Trauma                  43               1  ...           No   \n",
      "\n",
      "   chlorpropamide  glimepiride  acetohexamide  glipizide glyburide  \\\n",
      "0              No           No             No         No        No   \n",
      "1              No           No             No     Steady        No   \n",
      "2              No           No             No         No        No   \n",
      "3              No           No             No         No        No   \n",
      "4              No           No             No         No        No   \n",
      "5              No           No             No         No        No   \n",
      "6              No           No             No         No    Steady   \n",
      "7              No           No             No         No        No   \n",
      "8              No           No             No         No        No   \n",
      "9              No           No             No         No        No   \n",
      "\n",
      "  tolbutamide insulin change diabetesMed  \n",
      "0          No  Steady  False        True  \n",
      "1          No    Down   True        True  \n",
      "2          No      No  False       False  \n",
      "3          No      No  False       False  \n",
      "4          No    Down   True        True  \n",
      "5          No  Steady  False        True  \n",
      "6          No      Up   True        True  \n",
      "7          No    Down   True        True  \n",
      "8          No      No  False        True  \n",
      "9          No      Up   True        True  \n",
      "\n",
      "[10 rows x 29 columns]\n"
     ]
    }
   ],
   "source": [
    "import pandas as pd\n",
    "import numpy as np\n",
    "\n",
    "df=pd.read_csv('D2.csv')\n",
    "\n",
    "print(df.info())\n",
    "print(df.head(10))"
   ]
  },
  {
   "cell_type": "code",
   "execution_count": 21,
   "metadata": {},
   "outputs": [],
   "source": [
    "import seaborn as sns\n",
    "import matplotlib.pyplot as plt"
   ]
  },
  {
   "cell_type": "markdown",
   "metadata": {},
   "source": [
    "There are a number of good grouping objectives to be applied on this dataset.\n",
    "\n",
    "In order get patient characteristic profiles, we can cluster the patients based on their general basic info(race, gender, age), medical/test related info(max_glu_serum, A1Cresult, 10 variable medications, diabetesMed) or both.\n",
    "\n",
    "As clustering suburbs based on generic info would be insufficient, we will focus on clustering based on both medical info and basic info.\n",
    "\n",
    "Since diabetesMed indicates the medication info, we can keep this one cand drop the 10 variable medications.\n",
    "\n",
    "Thus, we will use 'race', 'gender', 'age', 'max_glu_serum', 'A1Cresult' & 'diabetesMed' and drop the rest of the features.\n",
    "\n",
    "Clustering is sensitive to inputs on different scale. The most common distance measure is Euclidian distance. With inputs on\n",
    "different scale, Euclidian distance favors features on larger scale. Thus, we need to apply scaling before\n",
    "performing clustering."
   ]
  },
  {
   "cell_type": "code",
   "execution_count": 22,
   "metadata": {},
   "outputs": [
    {
     "data": {
      "text/plain": [
       "array(['[60-70)', '[80-90)', '[70-80)', '[40-50)', '[50-60)', '[90-100)',\n",
       "       '[30-40)', '[20-30)', '[10-20)', '[0-10)', nan], dtype=object)"
      ]
     },
     "execution_count": 22,
     "metadata": {},
     "output_type": "execute_result"
    }
   ],
   "source": [
    "df['age'].unique()\n",
    "# based on the otput we know that there are "
   ]
  },
  {
   "cell_type": "code",
   "execution_count": null,
   "metadata": {},
   "outputs": [],
   "source": []
  },
  {
   "cell_type": "code",
   "execution_count": 23,
   "metadata": {},
   "outputs": [],
   "source": [
    "#mapping -- covert selected variables to numerical variables\n",
    "#change race into numerical variable\n",
    "race_map = {'Caucasian':0, 'AfricanAmerican':1, 'Hispanic':2, 'Asian':3, 'Other':4}\n",
    "df['race'] = df['race'].map(race_map)\n",
    "\n",
    "#change gender into numerical variable\n",
    "gender_map = {'Female':0, 'Male':1}\n",
    "df['gender'] = df['gender'].map(gender_map)\n",
    "\n",
    "#change age into numerical variable\n",
    "age_map = {'[0-10)':0,'[10-20)':1, '[20-30)':2, '[30-40)':3,'[40-50)':4, '[50-60)':5, '[60-70)':6, '[70-80)':7,'[80-90)':8,'[90-100)':9}\n",
    "df['age'] = df['age'].map(age_map)\n",
    "\n",
    "#change A1Cresult into numerical variable\n",
    "A1Cresult_map = {'None':0, 'Norm':1, '>7':2,'>8':3}\n",
    "df['A1Cresult'] = df['A1Cresult'].map(A1Cresult_map)\n",
    "\n",
    "#change max_glu_serum into numerical variable\n",
    "max_glu_serum_map = {'none':0, 'normal':1, '>200':2,'>300':3}\n",
    "df['max_glu_serum'] = df['max_glu_serum'].map(max_glu_serum_map)\n",
    "\n",
    "#change diabetesMded into numerical variable\n",
    "diabetesMed_map = {'TRUE':0, 'FALSE':1}\n",
    "df['diabetesMed'] = df['diabetesMed'].map(diabetesMed_map)\n"
   ]
  },
  {
   "cell_type": "code",
   "execution_count": 24,
   "metadata": {},
   "outputs": [
    {
     "data": {
      "text/plain": [
       "array([ 6.,  8.,  7.,  4.,  5.,  9.,  3.,  2.,  1.,  0., nan])"
      ]
     },
     "execution_count": 24,
     "metadata": {},
     "output_type": "execute_result"
    }
   ],
   "source": [
    "df['age'].unique()"
   ]
  },
  {
   "cell_type": "code",
   "execution_count": 25,
   "metadata": {},
   "outputs": [
    {
     "data": {
      "text/plain": [
       "array([6., 8., 7., 4., 5., 9., 3., 2., 1., 0.])"
      ]
     },
     "execution_count": 25,
     "metadata": {},
     "output_type": "execute_result"
    }
   ],
   "source": [
    "df['age'] = df['age'].fillna(7)\n",
    "df['age'].unique()"
   ]
  },
  {
   "cell_type": "code",
   "execution_count": null,
   "metadata": {},
   "outputs": [],
   "source": []
  },
  {
   "cell_type": "code",
   "execution_count": 26,
   "metadata": {},
   "outputs": [
    {
     "name": "stderr",
     "output_type": "stream",
     "text": [
      "C:\\Users\\n10661450\\AppData\\Local\\Continuum\\anaconda3\\lib\\site-packages\\sklearn\\utils\\extmath.py:776: RuntimeWarning: invalid value encountered in true_divide\n",
      "  updated_mean = (last_sum + new_sum) / updated_sample_count\n",
      "C:\\Users\\n10661450\\AppData\\Local\\Continuum\\anaconda3\\lib\\site-packages\\sklearn\\utils\\extmath.py:781: RuntimeWarning: Degrees of freedom <= 0 for slice.\n",
      "  new_unnormalized_variance = np.nanvar(X, axis=0) * new_sample_count\n"
     ]
    }
   ],
   "source": [
    "from sklearn.preprocessing import StandardScaler\n",
    "# take 3 variables and drop the rest\n",
    "df2 = df[['race', 'gender', 'age', 'max_glu_serum', 'A1Cresult', 'diabetesMed']]\n",
    "# convert df2 to matrix\n",
    "X = df2.to_numpy()\n",
    "# scaling\n",
    "scaler = StandardScaler()\n",
    "X = scaler.fit_transform(X)"
   ]
  },
  {
   "cell_type": "code",
   "execution_count": null,
   "metadata": {},
   "outputs": [],
   "source": []
  },
  {
   "cell_type": "code",
   "execution_count": null,
   "metadata": {},
   "outputs": [],
   "source": []
  },
  {
   "cell_type": "code",
   "execution_count": null,
   "metadata": {},
   "outputs": [],
   "source": []
  },
  {
   "cell_type": "code",
   "execution_count": 27,
   "metadata": {},
   "outputs": [
    {
     "ename": "IndentationError",
     "evalue": "expected an indented block (<ipython-input-27-9bfbc6496db9>, line 11)",
     "output_type": "error",
     "traceback": [
      "\u001b[1;36m  File \u001b[1;32m\"<ipython-input-27-9bfbc6496db9>\"\u001b[1;36m, line \u001b[1;32m11\u001b[0m\n\u001b[1;33m    print(centroid)\u001b[0m\n\u001b[1;37m        ^\u001b[0m\n\u001b[1;31mIndentationError\u001b[0m\u001b[1;31m:\u001b[0m expected an indented block\n"
     ]
    }
   ],
   "source": [
    "from sklearn.cluster import KMeans\n",
    "# random state, we will use 42 instead of 10 for a change\n",
    "rs = 42\n",
    "# set the random state. different random state seeds might result in different centroids lo\n",
    "model = KMeans(n_clusters=3, random_state=rs)\n",
    "model.fit(X)\n",
    "# sum of intra-cluster distances\n",
    "print(\"Sum of intra-cluster distance:\", model.inertia_)\n",
    "print(\"Centroid locations:\")\n",
    "for centroid in model.cluster_centers_:\n",
    "print(centroid)"
   ]
  },
  {
   "cell_type": "code",
   "execution_count": null,
   "metadata": {},
   "outputs": [],
   "source": [
    "# set a different n_clusters\n",
    "model = KMeans(n_clusters=8, random_state=rs)\n",
    "model.fit(X)\n",
    "# sum of intra-cluster distances\n",
    "print(\"Sum of intra-cluster distance:\", model.inertia_)\n",
    "print(\"Centroid locations:\")\n",
    "for centroid in model.cluster_centers_:\n",
    "print(centroid)"
   ]
  },
  {
   "cell_type": "code",
   "execution_count": null,
   "metadata": {},
   "outputs": [],
   "source": [
    "model = KMeans(n_clusters=3, random_state=rs).fit(X)\n",
    "# assign cluster ID to each record in X\n",
    "# Ignore the warning, does not apply to our case here\n",
    "y = model.predict(X)\n",
    "df2['Cluster_ID'] = y\n",
    "# how many records are in each cluster\n",
    "print(\"Cluster membership\")\n",
    "print(df2['Cluster_ID'].value_counts())\n",
    "# pairplot the cluster distribution.\n",
    "cluster_g = sns.pairplot(df2, hue='Cluster_ID',diag_kind='hist')\n",
    "plt.show()"
   ]
  },
  {
   "cell_type": "code",
   "execution_count": null,
   "metadata": {},
   "outputs": [],
   "source": []
  },
  {
   "cell_type": "code",
   "execution_count": null,
   "metadata": {},
   "outputs": [],
   "source": []
  },
  {
   "cell_type": "code",
   "execution_count": null,
   "metadata": {},
   "outputs": [],
   "source": []
  },
  {
   "cell_type": "code",
   "execution_count": null,
   "metadata": {},
   "outputs": [],
   "source": []
  },
  {
   "cell_type": "code",
   "execution_count": null,
   "metadata": {},
   "outputs": [],
   "source": []
  },
  {
   "cell_type": "code",
   "execution_count": null,
   "metadata": {},
   "outputs": [],
   "source": []
  },
  {
   "cell_type": "code",
   "execution_count": null,
   "metadata": {},
   "outputs": [],
   "source": []
  },
  {
   "cell_type": "code",
   "execution_count": null,
   "metadata": {},
   "outputs": [],
   "source": []
  },
  {
   "cell_type": "code",
   "execution_count": null,
   "metadata": {},
   "outputs": [],
   "source": []
  }
 ],
 "metadata": {
  "kernelspec": {
   "display_name": "Python 3",
   "language": "python",
   "name": "python3"
  },
  "language_info": {
   "codemirror_mode": {
    "name": "ipython",
    "version": 3
   },
   "file_extension": ".py",
   "mimetype": "text/x-python",
   "name": "python",
   "nbconvert_exporter": "python",
   "pygments_lexer": "ipython3",
   "version": "3.7.3"
  }
 },
 "nbformat": 4,
 "nbformat_minor": 2
}
